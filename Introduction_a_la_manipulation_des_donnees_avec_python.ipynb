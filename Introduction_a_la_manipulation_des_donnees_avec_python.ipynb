{
 "cells": [
  {
   "cell_type": "markdown",
   "id": "03a05d35-bd3f-4808-b72f-86d4e8c8a3d5",
   "metadata": {},
   "source": [
    "# <span style=\"color: black;\">ATELIER: INTRODUCTION A LA MANIPULATION DES DONNEES AVEC PYTHON  </span>"
   ]
  },
  {
   "cell_type": "markdown",
   "id": "7830a27b-c1cb-4755-9231-2d5f6d5c5af5",
   "metadata": {},
   "source": [
    "mage.jpg\"))\r\n",
    "\n"
   ]
  },
  {
   "cell_type": "markdown",
   "id": "837a7a63-e7f4-40a3-8561-a0e9ac44ad20",
   "metadata": {},
   "source": [
    "![Python Logo](image.jpg)\n",
    "\n"
   ]
  },
  {
   "cell_type": "markdown",
   "id": "215f9323-ba71-4748-bb32-4e8cb681604d",
   "metadata": {},
   "source": [
    "**Auteur**: _Lauriane MBAGDJE DORENAN_"
   ]
  },
  {
   "cell_type": "markdown",
   "id": "98c909be-4844-4759-89b4-e3ef2cd3e6f7",
   "metadata": {},
   "source": [
    "## 1. Objectifs de l'atelier \n",
    "- Apprendre à lire et manipuler des données avec Python\n",
    "- Maîtriser les opérations de base avec pandas\n",
    "- Réaliser des analyses simples sur des données réelles"
   ]
  },
  {
   "cell_type": "markdown",
   "id": "2f9cf128-b203-41ec-ac27-dcb1f23d20ca",
   "metadata": {
    "jp-MarkdownHeadingCollapsed": true
   },
   "source": [
    "## 2. Concepts de base Python (45 minutes)"
   ]
  },
  {
   "cell_type": "markdown",
   "id": "3dc33111-baf0-4e85-b599-993df8b9bbc3",
   "metadata": {},
   "source": [
    "### Qu'est ce que Python?\n",
    "\n",
    "Python est un langage de programmation open-source.\n",
    "\n",
    "-Il est relativement facile à apprendre.<br>\n",
    "-C'est un outil puissant avec de nombreux modules (bibliothèques) qui peuvent être importés pour étendre ses fonctionnalités.<br>\n",
    "-Python peut être utilisé pour automatiser des tâches et traiter de grandes quantités de données.<br>\n",
    "-Python peut être utilisé sur Mac, PC, Linux etc."
   ]
  },
  {
   "cell_type": "markdown",
   "id": "22856a7b-f1bb-4dc9-ab9c-b79a70840120",
   "metadata": {},
   "source": [
    "\n",
    "### a) Variables et Types de données\n"
   ]
  },
  {
   "cell_type": "markdown",
   "id": "ab3323f6-ad20-4a09-85ba-c61528a0eae3",
   "metadata": {},
   "source": [
    "Les variables sont des conteneurs qui stockent des valeurs.<br>\n",
    "En Python, vous n'avez pas besoin de déclarer le type de la variable explicitement, il est détecté automatiquement."
   ]
  },
  {
   "cell_type": "code",
   "execution_count": 15,
   "id": "439c8d75-060b-46d7-9ee5-f2c98c5ee62c",
   "metadata": {},
   "outputs": [],
   "source": [
    "age = 10"
   ]
  },
  {
   "cell_type": "code",
   "execution_count": 16,
   "id": "69a76687-fd39-4d51-bf89-bf1e73c0301b",
   "metadata": {},
   "outputs": [
    {
     "name": "stdout",
     "output_type": "stream",
     "text": [
      "10\n"
     ]
    }
   ],
   "source": [
    "print(age)"
   ]
  },
  {
   "cell_type": "markdown",
   "id": "5bacb4a2-95da-4758-bddf-29059eff3287",
   "metadata": {},
   "source": [
    "#### Types de données  :<br>\n",
    "\n",
    "**String** (chaîne de caractères) : Représente du texte, ex. \"Bonjour\".<br>\n",
    "**Integer** (entier) : Un nombre entier, ex. 25.<br>\n",
    "**Float** (flottant) : Un nombre décimal, ex. 3.14.<br>\n",
    "**Boolean** : Représente vrai/faux (True/False) <br>\n",
    "**Vérification du type**: La fonction **type()** permet de vérifier le type d'une variable"
   ]
  },
  {
   "cell_type": "code",
   "execution_count": 1,
   "id": "1ddf69a4-500c-4a21-97e7-69b8ddce84e9",
   "metadata": {},
   "outputs": [],
   "source": [
    "\n",
    "# Types de données simples\n",
    "texte = \"N'Djamena\"        # string (texte)\n",
    "population = 1500000       # integer (nombre entier)\n",
    "temperature = 35.5         # float (nombre décimal)\n",
    "est_capitale = True        # boolean (vrai/faux)"
   ]
  },
  {
   "cell_type": "code",
   "execution_count": 2,
   "id": "6f10e5ca-716c-4727-a9df-2e43f6507705",
   "metadata": {},
   "outputs": [
    {
     "name": "stdout",
     "output_type": "stream",
     "text": [
      "N'Djamena\n"
     ]
    }
   ],
   "source": [
    "# Affichage\n",
    "print(texte) "
   ]
  },
  {
   "cell_type": "code",
   "execution_count": 4,
   "id": "b27c718c-0c7f-4e02-9ff2-24f7aae1dfa6",
   "metadata": {},
   "outputs": [
    {
     "data": {
      "text/plain": [
       "float"
      ]
     },
     "execution_count": 4,
     "metadata": {},
     "output_type": "execute_result"
    }
   ],
   "source": [
    "#Vérifier le type\n",
    "type(temperature)"
   ]
  },
  {
   "cell_type": "markdown",
   "id": "8cea02e7-1d95-4053-9962-0117dae1b329",
   "metadata": {},
   "source": [
    "### <span style=\"color: red;\">A vous de jouer! 🎯</span>"
   ]
  },
  {
   "cell_type": "code",
   "execution_count": 9,
   "id": "e485f4ba-e177-4cdb-8242-26f0aea56606",
   "metadata": {},
   "outputs": [],
   "source": [
    "# Complétez les valeurs manquantes ci-dessous\n",
    "nom =   # Complétez avec votre prénom\n",
    "age =         # Complétez avec votre âge\n",
    "\n",
    "# Afficher ces informations\n",
    "\n"
   ]
  },
  {
   "cell_type": "code",
   "execution_count": null,
   "id": "fa80611c-9034-4e2e-90bf-37ddd97aa86a",
   "metadata": {},
   "outputs": [],
   "source": [
    "#Vérifier le type de la variale age\n"
   ]
  },
  {
   "cell_type": "markdown",
   "id": "f29a093d-a8ae-4c38-97bd-1998e077a5c3",
   "metadata": {},
   "source": [
    "### b) Les opérations mathématiques de base\n",
    "\n",
    "- `+` : Addition\r\n",
    "- `-` : Soustraction\r\n",
    "- `*` : Multiplication\r\n",
    "- `/` : Division\r\n",
    "- `**` : Puiss\n",
    "- `%`: Modulo (donne le reste de la division de deux nombre)\n",
    "- `//`: Donne la partie entière de la divsion de deux nombresance"
   ]
  },
  {
   "cell_type": "code",
   "execution_count": 10,
   "id": "44fd3cf6-0679-4e8e-aa0a-99830a0d9eb7",
   "metadata": {},
   "outputs": [
    {
     "name": "stdout",
     "output_type": "stream",
     "text": [
      "13\n"
     ]
    }
   ],
   "source": [
    "## Démonstration\n",
    "# Somme de a et b\n",
    "a = 10\n",
    "b = 3\n",
    "c=a+b\n",
    "print(c)"
   ]
  },
  {
   "cell_type": "markdown",
   "id": "9fd0b12a-e5d5-4629-b67d-30c7412b2677",
   "metadata": {},
   "source": [
    "### <span style=\"color: red;\">A vous de jouer! 🎯</span>"
   ]
  },
  {
   "cell_type": "code",
   "execution_count": 12,
   "id": "7bf72721-aa7a-4683-b796-44b47c0f3531",
   "metadata": {},
   "outputs": [],
   "source": [
    "# Calculer la moyenne de 3 notes\n",
    "note1 = 15\n",
    "note2 = 12\n",
    "note3 = 18\n",
    "\n",
    "\n",
    "moyenne = \n",
    "\n",
    "#Afficher cette moyenne\n"
   ]
  },
  {
   "cell_type": "markdown",
   "id": "89927d7e-5788-4276-a006-a3de94aacbf3",
   "metadata": {},
   "source": [
    "### c) Opérateurs logiques simples\n",
    "\n",
    "- **Les opérateurs logiques** : **and**, **or**, **not** pour les opérations booléennes.\n",
    "- **Comparaisons**: `==` , `!=`, `<`, `>`, `<=`, `>=` pour faire la comparaison."
   ]
  },
  {
   "cell_type": "code",
   "execution_count": 18,
   "id": "2c7924f8-cdcc-475c-bf26-b99e98bbfd53",
   "metadata": {},
   "outputs": [
    {
     "data": {
      "text/plain": [
       "True"
      ]
     },
     "execution_count": 18,
     "metadata": {},
     "output_type": "execute_result"
    }
   ],
   "source": [
    "#Exemple\n",
    "x= True\n",
    "y= False\n",
    "\n",
    "x or y"
   ]
  },
  {
   "cell_type": "code",
   "execution_count": 19,
   "id": "c153eba3-c54b-4d75-a5cc-6cfbb12f2df1",
   "metadata": {},
   "outputs": [
    {
     "data": {
      "text/plain": [
       "False"
      ]
     },
     "execution_count": 19,
     "metadata": {},
     "output_type": "execute_result"
    }
   ],
   "source": [
    "#L'opposé de X\n",
    "not x"
   ]
  },
  {
   "cell_type": "code",
   "execution_count": 21,
   "id": "6332b40f-3169-4277-8e5a-741199043b99",
   "metadata": {},
   "outputs": [],
   "source": [
    "#Comparaison\n",
    "age=18"
   ]
  },
  {
   "cell_type": "code",
   "execution_count": 23,
   "id": "d786b95e-c4e4-4fb6-891d-6b4152e8e957",
   "metadata": {},
   "outputs": [
    {
     "data": {
      "text/plain": [
       "False"
      ]
     },
     "execution_count": 23,
     "metadata": {},
     "output_type": "execute_result"
    }
   ],
   "source": [
    "age==20"
   ]
  },
  {
   "cell_type": "markdown",
   "id": "7dbc6501-9219-4d07-a623-0f3b436e703b",
   "metadata": {},
   "source": [
    "### <span style=\"color: red;\">A vous de jouer! 🎯</span>"
   ]
  },
  {
   "cell_type": "code",
   "execution_count": 24,
   "id": "c8341656-acfd-4846-a960-64634a4befb0",
   "metadata": {},
   "outputs": [],
   "source": [
    "#Vérifier si age est supérieur ou égale à 18\n"
   ]
  },
  {
   "cell_type": "markdown",
   "id": "75c3daef-42b1-4e09-8c19-1b643ba5d9a8",
   "metadata": {},
   "source": [
    "### e) Les fonctions\n",
    "Une fonction est un bloc de code qui effectue une tâche spécifique. Elle peut être réutilisée plusieurs fois avec différents paramètres.<br>\n",
    "En Python, les fonctions se définissent avec le mot-clé def."
   ]
  },
  {
   "cell_type": "markdown",
   "id": "f7f37864-09cd-4fe7-b6f7-f4d6973a1ed0",
   "metadata": {},
   "source": [
    "##### Structure de base d'une fonction :"
   ]
  },
  {
   "cell_type": "code",
   "execution_count": null,
   "id": "f3f3472a-fd4c-45fe-a366-488eaeb06c90",
   "metadata": {},
   "outputs": [],
   "source": [
    "def nom_de_la_fonction(parametre1, parametre2):\n",
    "    # Code à exécuter\n",
    "    resultat = parametre1 + parametre2\n",
    "    return resultat"
   ]
  },
  {
   "cell_type": "markdown",
   "id": "6d257b07-e986-4946-bbc7-c04977ce5c2f",
   "metadata": {},
   "source": [
    "**def** : Mot-clé pour définir une fonction.<br>\n",
    "**nom_de_la_fonction** : Nom que tu choisis pour la fonction.<br>\n",
    "**parametre1, parametre2** : Paramètres que tu passes à la fonction.<br>\n",
    "**return** : Mot-clé pour renvoyer un résultat.<br>\n"
   ]
  },
  {
   "cell_type": "code",
   "execution_count": 30,
   "id": "ccadffce-42a9-4461-97e6-e9f3c8d8fb58",
   "metadata": {},
   "outputs": [],
   "source": [
    "#Fonction qui permet de faire la somme de deux nombre\n",
    "\n",
    "def somme(a,b):\n",
    "    s = a+b\n",
    "    return s"
   ]
  },
  {
   "cell_type": "code",
   "execution_count": 31,
   "id": "a2c173b9-5dc7-481f-9ef6-782f6157728d",
   "metadata": {},
   "outputs": [
    {
     "data": {
      "text/plain": [
       "11"
      ]
     },
     "execution_count": 31,
     "metadata": {},
     "output_type": "execute_result"
    }
   ],
   "source": [
    "somme(5,6)"
   ]
  },
  {
   "cell_type": "markdown",
   "id": "7e90433a-3b68-4edf-9cb1-fd8d06b0f783",
   "metadata": {},
   "source": [
    "### <span style=\"color: red;\">A vous de jouer! 🎯</span>"
   ]
  },
  {
   "cell_type": "code",
   "execution_count": null,
   "id": "ee796b40-9eb4-4ae2-a73a-b025fe13501c",
   "metadata": {},
   "outputs": [],
   "source": [
    "# Définir une fonction permettant de faire le produit de deux nombre\n"
   ]
  },
  {
   "cell_type": "code",
   "execution_count": null,
   "id": "079e4026-0840-4105-91a3-b54ed90f8cc7",
   "metadata": {},
   "outputs": [],
   "source": [
    "# Appeler la fonction pour faire le produit de 5 et 6\n",
    "\n"
   ]
  },
  {
   "cell_type": "markdown",
   "id": "f2a6bd53-3fbe-4bf3-8329-c27481982490",
   "metadata": {},
   "source": [
    "#### Fonctions lambda\n",
    "\n",
    "Les fonctions lambda en Python sont des fonctions anonymes et courtes qui peuvent être définies en une seule ligne. Elles sont particulièrement utiles pour les opérations simples et rapides.\n",
    "\n"
   ]
  },
  {
   "cell_type": "markdown",
   "id": "17292108-9d57-4efe-878c-e1f1559ac87a",
   "metadata": {},
   "source": [
    "##### Structure d'une fonction lambda :"
   ]
  },
  {
   "cell_type": "code",
   "execution_count": null,
   "id": "42a87c4c-1497-4fd0-99ca-af1d3a656de8",
   "metadata": {},
   "outputs": [],
   "source": [
    "nom_de_la_fonction= lambda arguments: expression"
   ]
  },
  {
   "cell_type": "markdown",
   "id": "340ba882-fc02-4541-be17-46c47c2ce901",
   "metadata": {},
   "source": [
    "**lambda** : Mot-clé pour définir une fonction lambda.<br>\n",
    "**arguments** : Les paramètres d'entrée, comme dans une fonction classique.<br>\n",
    "**expression** : L'expression qui est évaluée et retournée.<br>"
   ]
  },
  {
   "cell_type": "code",
   "execution_count": 37,
   "id": "68e7e755-4888-487e-8d39-3d04c2ba5f51",
   "metadata": {},
   "outputs": [],
   "source": [
    "# somme de deux nombres\n",
    "addition= lambda a,b : a+b"
   ]
  },
  {
   "cell_type": "code",
   "execution_count": 40,
   "id": "ca840a46-f929-4861-b2d5-738f7dc1df6f",
   "metadata": {},
   "outputs": [
    {
     "data": {
      "text/plain": [
       "21"
      ]
     },
     "execution_count": 40,
     "metadata": {},
     "output_type": "execute_result"
    }
   ],
   "source": [
    "addition(a=10, b=11)"
   ]
  },
  {
   "cell_type": "markdown",
   "id": "0f3047f0-4e6e-4833-b5c0-71825738b6ec",
   "metadata": {},
   "source": [
    "### <span style=\"color: red;\">A vous de jouer! 🎯</span>"
   ]
  },
  {
   "cell_type": "code",
   "execution_count": 39,
   "id": "d6924ac1-8b35-471c-a12c-9c65431c13d5",
   "metadata": {},
   "outputs": [],
   "source": [
    "# Ecrire une fonction lambda pour faire la différence de deux nombres.Ensuite appeller cette fonction avec 100 et 60\n",
    "\n"
   ]
  },
  {
   "cell_type": "markdown",
   "id": "2dd81a7c-2449-42ab-9971-52abd3bbadee",
   "metadata": {},
   "source": [
    "### f) Structures de données (Listes, Dictionnaires)"
   ]
  },
  {
   "cell_type": "markdown",
   "id": "926f0a9a-2a1d-4088-a570-1a54e76e8aac",
   "metadata": {},
   "source": [
    "**Listes** : Une collection ordonnée d'éléments. Ex. : noms = [\"Alice\", \"Bob\", \"Claire\"] <br>\n"
   ]
  },
  {
   "cell_type": "code",
   "execution_count": 48,
   "id": "f160952c-1648-4bc4-b72d-03e5424211d6",
   "metadata": {},
   "outputs": [],
   "source": [
    "# Création d'une liste\n",
    "villes = [\"N'Djamena\", \"Moundou\", \"Abéché\"]\n",
    "temperatures = [35, 32, 34]\n",
    "\n"
   ]
  },
  {
   "cell_type": "code",
   "execution_count": 49,
   "id": "bb62048d-bd68-44ba-99f4-8889ec0ca496",
   "metadata": {},
   "outputs": [
    {
     "name": "stdout",
     "output_type": "stream",
     "text": [
      "N'Djamena\n",
      "32\n"
     ]
    }
   ],
   "source": [
    "# Accéder aux éléments (commence à 0)\n",
    "print(villes[0])      # Affiche: N'Djamena\n",
    "print(temperatures[1]) # Affiche: 32"
   ]
  },
  {
   "cell_type": "markdown",
   "id": "272d755a-ad65-4c3d-a535-f8e6f4bd9a29",
   "metadata": {},
   "source": [
    "### <span style=\"color: red;\">A vous de jouer! 🎯</span>"
   ]
  },
  {
   "cell_type": "code",
   "execution_count": 102,
   "id": "29f45d7b-67ce-474b-8b86-4e1bd787ebe6",
   "metadata": {},
   "outputs": [],
   "source": [
    "#Créer une liste de trois noms de  fruits\n",
    "\n",
    "#Afficher le deuxième élément de cette liste"
   ]
  },
  {
   "cell_type": "markdown",
   "id": "2906522a-30ed-4eaa-8274-1d266a2ef31d",
   "metadata": {},
   "source": [
    "**Dictionnaires** : Une collection d'éléments avec des paires clé-valeur. Ex. : etudiant = {\"nom\": \"Alice\", \"age\": 25}"
   ]
  },
  {
   "cell_type": "code",
   "execution_count": 51,
   "id": "9e537fd6-047b-436e-895e-ea1ae3533cf4",
   "metadata": {},
   "outputs": [
    {
     "name": "stdout",
     "output_type": "stream",
     "text": [
      "N'Djamena\n",
      "1500000\n"
     ]
    }
   ],
   "source": [
    "# Création d'un dictionnaire\n",
    "ville_info = {\n",
    "    \"nom\": \"N'Djamena\",\n",
    "    \"population\": 1500000,\n",
    "    \"temperature\": 35\n",
    "}\n",
    "\n",
    "# Accéder aux valeurs\n",
    "print(ville_info[\"nom\"])         # Affiche: N'Djamena\n",
    "print(ville_info[\"population\"])  # Affiche: 1500000"
   ]
  },
  {
   "cell_type": "markdown",
   "id": "6dcef504-5fa3-4145-a4b1-900325db0285",
   "metadata": {},
   "source": [
    "### <span style=\"color: red;\">A vous de jouer! 🎯</span>"
   ]
  },
  {
   "cell_type": "code",
   "execution_count": 12,
   "id": "465f173c-1c32-4363-959b-83b626ac9c87",
   "metadata": {},
   "outputs": [],
   "source": [
    "#Créer un dictionnaire eleve avec les clés nom, prenom, age et les valeurs de votre choix\n",
    "\n",
    "\n",
    "#Afficher l'âge de l'élève\n",
    "\n",
    "  "
   ]
  },
  {
   "cell_type": "markdown",
   "id": "28a4c053-3541-4c37-9e90-0ce4039d68e0",
   "metadata": {},
   "source": [
    "### g) Les structures de contôle\n",
    "\n",
    "Les structures de contrôle permettent de contrôler le flux d'exécution d'un programme, c'est-à-dire de décider quelles instructions doivent être exécutées en fonction de certaines conditions.\n",
    "\n",
    "##### 1. Les conditions : if, elif, else\n",
    "Les instructions conditionnelles permettent d'exécuter un bloc de code seulement si une condition est remplie."
   ]
  },
  {
   "cell_type": "markdown",
   "id": "baae54b1-ecd2-4b3f-a80e-96fc3ff53df2",
   "metadata": {},
   "source": [
    "##### Structure :"
   ]
  },
  {
   "cell_type": "code",
   "execution_count": 47,
   "id": "4b7c1a04-cf01-458e-983f-6c78625d89bf",
   "metadata": {},
   "outputs": [],
   "source": [
    "if condition:\n",
    "    # Code à exécuter si la condition est vraie\n",
    "elif autre_condition:\n",
    "    # Code à exécuter si une autre condition est vraie\n",
    "else:\n",
    "    # Code à exécuter si aucune des conditions précédentes n'est vraie\n"
   ]
  },
  {
   "cell_type": "code",
   "execution_count": 55,
   "id": "40b976bf-658a-458d-b453-c7d821462609",
   "metadata": {},
   "outputs": [
    {
     "name": "stdout",
     "output_type": "stream",
     "text": [
      "Vous êtes mineur\n"
     ]
    }
   ],
   "source": [
    "#Désicion simple\n",
    "age = 10\n",
    "if age < 18 :\n",
    "    print(\"Vous êtes mineur\")"
   ]
  },
  {
   "cell_type": "code",
   "execution_count": 56,
   "id": "d47c42c3-d22a-45f2-863d-5d20cd948be5",
   "metadata": {},
   "outputs": [
    {
     "name": "stdout",
     "output_type": "stream",
     "text": [
      "Vous êtes majeur\n"
     ]
    }
   ],
   "source": [
    "# Désicion avec une alternative (Else)\n",
    "age = 18 \n",
    "if age < 18: \n",
    "    print(\"Vous êtes mineur\")\n",
    "else :\n",
    "    print(\"Vous êtes majeur\")"
   ]
  },
  {
   "cell_type": "code",
   "execution_count": 60,
   "id": "0d593e87-71e6-4e13-93c8-d02c55aebd1c",
   "metadata": {},
   "outputs": [
    {
     "name": "stdout",
     "output_type": "stream",
     "text": [
      "moyen\n"
     ]
    }
   ],
   "source": [
    "#Décision avec multiple alternatives (elif)\n",
    "\n",
    "note = 10\n",
    "\n",
    "if note == 18:\n",
    "    print(\"Excellent\")\n",
    "elif age == 16:\n",
    "    print(\"Très bien\")\n",
    "elif note == 15:\n",
    "    print(\"Bien\")\n",
    "else:\n",
    "    print(\"moyen\")"
   ]
  },
  {
   "cell_type": "markdown",
   "id": "750634a2-a301-4d9a-94d9-f3ad94e8f75f",
   "metadata": {},
   "source": [
    "### <span style=\"color: red;\">A vous de jouer! 🎯</span>"
   ]
  },
  {
   "cell_type": "markdown",
   "id": "33e64236-31ad-46e1-94d9-141efdf4a1f5",
   "metadata": {},
   "source": [
    "Créer un programme qui catégorise un âge en fonction de valeurs spécifiques : <br>\n",
    "\n",
    "Si l'âge est inférieur à 18, la personne est un mineur.<br>\n",
    "Si l'âge est compris entre 18 et 60, c'est un adulte.<br>\n",
    "Si l'âge est supérieur à 60, c'est un senior.<br>\n",
    "Si l'âge est inférieur à O, le programme dit âge invalide."
   ]
  },
  {
   "cell_type": "code",
   "execution_count": null,
   "id": "2add1c36-b025-4c1a-87c8-f1700b871356",
   "metadata": {},
   "outputs": [],
   "source": [
    "#Votre code ici\n",
    "\n"
   ]
  },
  {
   "cell_type": "markdown",
   "id": "e795da44-4785-447c-b4f9-468bb37c5539",
   "metadata": {},
   "source": [
    "##### 2. Les boucles : for et while\n",
    "Les boucles permettent de répéter une série d'instructions plusieurs fois.\n",
    "\n",
    "- Boucle **for**: <br>\n",
    "La boucle for est utilisée pour parcourir une séquence de valeurs (comme une liste ou une chaîne de caractères)."
   ]
  },
  {
   "cell_type": "code",
   "execution_count": 19,
   "id": "20ae2add-2e1f-4930-b537-2d1bd9c9e0ec",
   "metadata": {},
   "outputs": [
    {
     "name": "stdout",
     "output_type": "stream",
     "text": [
      "Abdel\n",
      "Jean\n",
      "Hassan\n",
      "4\n",
      "True\n"
     ]
    }
   ],
   "source": [
    "noms=[\"Abdel\", \"Jean\", \"Hassan\",4, True]\n",
    "for nom in noms:\n",
    "    print(nom)\n"
   ]
  },
  {
   "cell_type": "markdown",
   "id": "8a683733-d1c3-4dd1-9d76-a6ad7e4bb66d",
   "metadata": {},
   "source": [
    "- Utilisation de **range** avec **for** <br>\n",
    "La fonction **range** est souvent utilisée pour contrôler combien de fois une boucle doit s'exécuter ou pour itérer sur une série de nombres. <br>\n",
    "Voici comment elle fonctionne: <br>\n",
    "\n",
    "range(start, stop, step) <br>\n",
    "\n",
    "start : Le nombre à partir duquel la séquence commence (optionnel, par défaut c'est 0). <br>\n",
    "stop : Le nombre auquel la séquence s'arrête (non inclus). <br>\n",
    "step : L'incrément entre chaque nombre (optionnel, par défaut c'est 1).<br>\n"
   ]
  },
  {
   "cell_type": "code",
   "execution_count": 63,
   "id": "3c4320cb-42de-4fe2-b488-25f05dbcff50",
   "metadata": {},
   "outputs": [
    {
     "name": "stdout",
     "output_type": "stream",
     "text": [
      "0\n",
      "1\n",
      "2\n",
      "3\n",
      "4\n"
     ]
    }
   ],
   "source": [
    "for i in range(5):\n",
    "    print(i)\n"
   ]
  },
  {
   "cell_type": "markdown",
   "id": "efc7406f-2581-40f0-87ec-0c5597579ad0",
   "metadata": {},
   "source": [
    "- Boucle **while** : <br>\n",
    "La boucle while continue de s'exécuter tant qu'une condition est vraie."
   ]
  },
  {
   "cell_type": "code",
   "execution_count": 62,
   "id": "3dc61e5b-52b9-4226-9a66-b58b8a28ae08",
   "metadata": {},
   "outputs": [
    {
     "name": "stdout",
     "output_type": "stream",
     "text": [
      "Compteur : 0\n",
      "Compteur : 1\n",
      "Compteur : 2\n",
      "Compteur : 3\n",
      "Compteur : 4\n"
     ]
    }
   ],
   "source": [
    "compteur = 0\n",
    "\n",
    "while compteur < 5:\n",
    "    print(\"Compteur :\", compteur)\n",
    "    compteur += 1  # Incrémenter la valeur de compteur"
   ]
  },
  {
   "cell_type": "markdown",
   "id": "df6d119e-e0e3-409b-9436-264bda3dc0f5",
   "metadata": {},
   "source": [
    "### <span style=\"color: red;\">A vous de jouer! 🎯</span>"
   ]
  },
  {
   "cell_type": "code",
   "execution_count": null,
   "id": "bb8b6618-ec07-45d1-8525-8e7e0cbbc631",
   "metadata": {},
   "outputs": [],
   "source": [
    "# Trouver les nombres pairs dans une liste\n",
    "# Utiliser une boucle for pour parcourir une liste de nombres et d'afficher uniquement les nombres pairs.\n",
    "nombres = [1, 2, 3, 4, 5, 6, 7, 8, 9, 10]\n",
    "\n",
    "for nombre in nombres:\n",
    "    if _______:  # Compléter la condition pour vérifier si le nombre est pair\n",
    "       \n",
    "        print(nombre)\n"
   ]
  },
  {
   "cell_type": "code",
   "execution_count": null,
   "id": "d4c04df0-ab1a-448e-a5e8-4e3df80e7045",
   "metadata": {},
   "outputs": [],
   "source": [
    "# Faire le même exercice aavec la boucle while\n",
    "\n"
   ]
  },
  {
   "cell_type": "code",
   "execution_count": null,
   "id": "a6c6cc63-b5c1-4ed0-a711-3c95e4be8a05",
   "metadata": {},
   "outputs": [],
   "source": [
    "#  Afficher  les nombres pairs entre 0 et 20 en utiliser la fonction range et for\n",
    "\n"
   ]
  },
  {
   "cell_type": "markdown",
   "id": "d15b211c-5723-4d86-ab4e-4c7964f74519",
   "metadata": {
    "jp-MarkdownHeadingCollapsed": true
   },
   "source": [
    "## 3. Manipulation  des donées (25 minutes)"
   ]
  },
  {
   "cell_type": "markdown",
   "id": "86639536-5820-4c4c-acd9-4afa28f45505",
   "metadata": {},
   "source": [
    "La manipulation des données est le processus d'ajustement des données pour les rendre plus faciles à lire et à comprendre. \n",
    "\n",
    "\n"
   ]
  },
  {
   "cell_type": "markdown",
   "id": "c5ab1e12-f53f-4e97-a150-303351ece0c3",
   "metadata": {},
   "source": [
    "### Introduction à Pandas \n",
    "\n",
    "**Pandas**, abréviation de « Python Data Analysis Library », une bibliothèque Python, simplifie ce processus en fournissant des outils pour importer, nettoyer, restructurer, analyser et exporter des données. Il s'agit d'un outil open source populaire utilisé pour la manipulation, l'analyse et la visualisation des données.<br>\n",
    "\n",
    "Installer Pandas en utilisant **pip install pandas** <br>\n",
    "Importer des pandas en utilisant **import pandas as pd** <br>\n",
    "\n",
    "\n",
    "L'importation d'ensembles de données externes est essentielle pour le travail de manipulation des données.<br>\n",
    "Pandas propose différentes méthodes pour importer des données, notamment à partir de fichiers CSV et de feuilles Excel.<br>\r"
   ]
  },
  {
   "cell_type": "markdown",
   "id": "92302d44-f95a-4e7e-bd1e-0c2b3f14eaac",
   "metadata": {},
   "source": [
    "- Importer des données depuis un fichier CSV\n",
    "df = pd.read_csv( 'file.csv ) \n",
    "- Importer des données depuis un fichier Excel\n",
    "df = pd.read_excel( 'file.xlsx' )"
   ]
  },
  {
   "cell_type": "markdown",
   "id": "0de1168b-6c6e-4a83-8439-a9bb52b8ae04",
   "metadata": {},
   "source": [
    "Pandas vous permet également d'exporter les données manipulées vers différents formats de fichiers.<br>\n",
    "- Exportation de données vers un fichier CSV <br>\n",
    "**df.to_csv( 'new_file.csv')** <br>\n",
    "\n",
    "- Exportation de données vers un fichier Excel <br>\n",
    "**df.to_excel( 'new_file.xlsx')** \n"
   ]
  },
  {
   "cell_type": "markdown",
   "id": "f753db31-b680-43f5-8151-1beb93c32073",
   "metadata": {},
   "source": [
    "**2. Structures de données Pandas** <br>\n",
    "Pandas propose deux structures de données principales qui sont essentielles pour les tâches de manipulation de données : **Series** et **DataFrames**. <br>\n",
    "\n"
   ]
  },
  {
   "cell_type": "markdown",
   "id": "c59d91b7-583b-4c8d-bcc8-64b5d2a57346",
   "metadata": {},
   "source": [
    "**Séries** : une série est un tableau étiqueté unidimensionnel. Voici un exemple de création d'une série avec les noms de certains élèves et leurs notes :\n",
    "\n",
    "\n"
   ]
  },
  {
   "cell_type": "code",
   "execution_count": 65,
   "id": "03d31530-e354-44c7-a9f3-43b811b03885",
   "metadata": {},
   "outputs": [
    {
     "name": "stdout",
     "output_type": "stream",
     "text": [
      "Junior    15\n",
      "Hassan    16\n",
      "Clara     18\n",
      "Aicha     15\n",
      "dtype: int64\n"
     ]
    }
   ],
   "source": [
    "# importer pandas comme pd\n",
    "import pandas as pd\n",
    "# Créer une série avec les noms des étudiants comme étiquettes et les notes comme données\n",
    "notes_eleves = pd.Series([ 15 , 16 , 18 , 15 ], index=[ \"Junior\" , \"Hassan\" , \"Clara\" , \"Aicha\" ])\n",
    "\n",
    "# Imprimer la série\n",
    "print (notes_eleves)\n"
   ]
  },
  {
   "cell_type": "markdown",
   "id": "40c1e32b-166a-4dd7-90eb-5ad3714cfa19",
   "metadata": {},
   "source": [
    "**DataFrame**: un DataFrame est une structure de données étiquetée en deux dimensions ressemblant à une feuille de calcul. Voici un exemple de création d'un DataFrame avec des informations sur les étudiants :\n",
    "\n"
   ]
  },
  {
   "cell_type": "code",
   "execution_count": 71,
   "id": "79f83600-9fca-454e-9ef9-ff9d69a9058e",
   "metadata": {},
   "outputs": [
    {
     "name": "stdout",
     "output_type": "stream",
     "text": [
      "        Nom  Âge   Matiere  Score Ville natale  Année d'obtention du diplôme  \\\n",
      "0  Augustin   20   Anglais     85         Doba                          2022   \n",
      "1       Ben   13      Math     92         Pala                          2023   \n",
      "2       Ali   19  Physique     78        Batha                          2022   \n",
      "3    Moussa   12  Economie     95     Ndjamena                          2023   \n",
      "4     Madji   18  Biologie     88      Moundou                          2024   \n",
      "5     Aicha   10    Chimie     90         Sarh                          2023   \n",
      "\n",
      "   Bourse  \n",
      "0   False  \n",
      "1    True  \n",
      "2   False  \n",
      "3    True  \n",
      "4   False  \n",
      "5   False  \n"
     ]
    }
   ],
   "source": [
    "# Créer un dictionnaire avec les données des étudiants\n",
    "donnees_etudiants = {\n",
    "   \"Nom\" : [ \"Augustin\" , \"Ben\" , \"Ali\" , \"Moussa\" , \"Madji\" , \"Aicha\" ],\n",
    "   \"Âge\" : [ 20 , 13 , 19 , 12 , 18, 10 ],\n",
    "   \"Matiere\" : [ \"Anglais\" , \"Math\" , \"Physique\" , \"Economie\", \"Biologie\" , \"Chimie\" ],\n",
    "   \"Score\" : [ 85 , 92 , 78 , 95 , 88 , 90 ],\n",
    "   \"Ville natale\" : [ \"Doba\" , \"Pala\" , \"Batha\" , \"Ndjamena\" , \"Moundou\" , \"Sarh\" ],\n",
    "   \"Année d'obtention du diplôme\" : [ 2022 , 2023 , 2022 , 2023 , 2024 , 2023 ],\n",
    "   \"Bourse\" : [ False , True , False , True , False , False ]\n",
    "}\n",
    "# Créer un DataFrame à partir du dictionnaire\n",
    "df = pd.DataFrame(donnees_etudiants)\n",
    "# Imprimer le DataFrame\n",
    "print (df)\n"
   ]
  },
  {
   "cell_type": "markdown",
   "id": "d4791240-e9ca-40ac-a4fa-18d7edf3892a",
   "metadata": {},
   "source": [
    "**Dans cette partie nous allons utilisés un ensemble de données portant sur l'effectif de la population nationale Tchadienne par groupe d'âge et par sexe .** <br>\n",
    "Source de données: https://chad.opendataforafrica.org/nuybfce/population-totale-par-province <br>\n",
    "Publié par INSEED: 14 avril 2022"
   ]
  },
  {
   "cell_type": "code",
   "execution_count": 76,
   "id": "40fab5e2-cf3b-403d-8817-98919854192e",
   "metadata": {},
   "outputs": [],
   "source": [
    "import pandas as pd\n",
    "\n",
    "# Charger un fichier CSV dans un DataFrame\n",
    "df = pd.read_csv('data.csv')\n",
    "\n",
    "\n"
   ]
  },
  {
   "cell_type": "markdown",
   "id": "95a8b833-19ad-452d-9846-e0411f957a55",
   "metadata": {},
   "source": [
    "### Exploration des données <br>\n",
    "\n",
    "Avant de procéder à la manipulation des données, il est essentiel d'explorer et de comprendre votre ensemble de données. Pandas fournit plusieurs fonctions pratiques à cet effet. <br>\n",
    "**head()** : Affiche les premières lignes du dataframe. Par défaut, elle renvoie les 5 premières lignes. <br>\n",
    "**info()** : Cette fonction affiche un résumé concis d'un DataFrame, y compris les types de données, les valeurs non nulles et l'utilisation de la mémoire\n",
    "**shape** : Donne la dimension (nombre de lignes et colonnes) du dataframe.<br>\n",
    "**dtypes** : Donne les types de données des colonnes.<br>\n",
    "**describe** : Fournit un résumé statistique telsque la moyenne, médiane, écart-type etc,  des colonnes numériques du DataFrame.\n",
    "**tail()** : elle renvoie les dernières lignes du DataFrame. Par défaut, elle renvoie les 5 dernières lignes\r\n",
    "\r\n"
   ]
  },
  {
   "cell_type": "markdown",
   "id": "489c25a0-9300-4f22-ac99-4c01c7e1efeb",
   "metadata": {},
   "source": [
    "### <span style=\"color: red;\">A vous de jouer! 🎯</span>"
   ]
  },
  {
   "cell_type": "code",
   "execution_count": 79,
   "id": "559dbe8b-a7fc-4495-9527-9b532e6ad572",
   "metadata": {},
   "outputs": [],
   "source": [
    "# Afficher les 5 premières  lignes\n",
    "\n",
    "\n"
   ]
  },
  {
   "cell_type": "code",
   "execution_count": null,
   "id": "7464f82f-573b-488d-b97f-3939962e4f99",
   "metadata": {},
   "outputs": [],
   "source": [
    "#Afficher les 10 dernières lignes de deux manières différentes\n",
    "\n"
   ]
  },
  {
   "cell_type": "code",
   "execution_count": 85,
   "id": "39b1492a-0aeb-48a7-a50e-4f144a4d5cf9",
   "metadata": {},
   "outputs": [],
   "source": [
    "# Vérifier les informations du dataframe\n",
    "\n"
   ]
  },
  {
   "cell_type": "code",
   "execution_count": 81,
   "id": "45f655cb-68c1-49f6-a1fd-3d0e171cb4bb",
   "metadata": {},
   "outputs": [],
   "source": [
    "# Afficher la dimension\n",
    "\n"
   ]
  },
  {
   "cell_type": "code",
   "execution_count": 83,
   "id": "2e6bb357-0f32-4302-8df6-543f08206eae",
   "metadata": {},
   "outputs": [],
   "source": [
    "# Vérifier les types de données\n",
    "\n"
   ]
  },
  {
   "cell_type": "code",
   "execution_count": null,
   "id": "3561ab47-fbbf-44ec-8511-6a7cafe4e980",
   "metadata": {},
   "outputs": [],
   "source": [
    "# Afficher les statistiques du dataframe\n",
    "\n"
   ]
  },
  {
   "cell_type": "markdown",
   "id": "3f7faff0-f33d-4ed6-b025-9684b050f4b4",
   "metadata": {},
   "source": [
    "### Gestion des données manquantes\n",
    "La gestion des valeurs manquantes permet d'éviter les erreurs et les conclusions erronées dans l'analyse des données. Sans données complètes, nos conclusions peuvent être erronées. En complétant les informations manquantes, nous nous assurons que nos conclusions sont exactes et fiables.\n",
    "\n",
    "La première étape consiste à repérer où se trouvent les valeurs manquantes dans le dataset. En Pandas, les valeurs manquantes sont souvent représentées par NaN (Not a Number)."
   ]
  },
  {
   "cell_type": "markdown",
   "id": "3cca371b-338e-41a9-a666-198e20682f74",
   "metadata": {},
   "source": [
    "- **isna()** :  renvoie un DataFrame avec True pour chaque valeur manquante et False pour les valeurs non manquantes.\n",
    "- **isna().sum()**:   permet de voir combien de valeurs manquantes il y a dans chaque colonne.\n",
    "- **dropna()** : supprime les lignes ou colonnes contenant des valeurs manquantes\n",
    "- **fillna**:  remplit les valeurs manquantes avec des valeurs fixes ou des statistiques( comme la moyenne).\n"
   ]
  },
  {
   "cell_type": "code",
   "execution_count": null,
   "id": "eda79760-479a-4fce-b67b-87a1ffedf0aa",
   "metadata": {},
   "outputs": [],
   "source": [
    "# Supprimer les lignes avec des valeurs manquantes\n",
    "df.dropna()\n",
    "\n",
    "# Supprimer les colonnes avec des valeurs manquantes\n",
    "\n",
    "df.dropna(axis=1)\n",
    "# Remplir les valeurs manquantes avec une valeur spécifique\n",
    "df.fillna( 0 )\n",
    "\n",
    "\n",
    "# Remplir les valeurs manquantes à l'aide d'une fonction\n",
    "df.fillna(df.mean())\n"
   ]
  },
  {
   "cell_type": "markdown",
   "id": "229e60a5-497f-457f-b02b-6f8053998cba",
   "metadata": {},
   "source": [
    "### <span style=\"color: red;\">A vous de jouer! 🎯</span>"
   ]
  },
  {
   "cell_type": "code",
   "execution_count": 93,
   "id": "77962321-bf3b-4e65-8cb3-89a448fc1727",
   "metadata": {},
   "outputs": [],
   "source": [
    "# Vérifier les valeurs manquantes dans notre jeu de données\n",
    "\n"
   ]
  },
  {
   "cell_type": "markdown",
   "id": "678816a0-694f-4949-815a-b40176b9ab51",
   "metadata": {},
   "source": [
    "#### **Sélection et le Filtrage des Données avec Pandas**\n",
    "Pandas fournit différentes méthodes pour sélectionner et filtrer les données d'un DataFrame en fonction d'étiquettes, de positions entières ou de conditions booléennes.<br>\n",
    "\n",
    "##### **1. Sélectionner une ou plusieurs colonnes**\n",
    "\n",
    "Pour sélectionner des colonnes spécifiques dans un DataFrame, on utilise la syntaxe suivante :\n",
    "\n",
    "- **Sélectionner une colonne** :\n",
    "  ```python\n",
    "  # Sélectionner la colonne \"Ville\"\n",
    "  df[\"Ville\"]\n",
    "  ```\n",
    "\n",
    "- **Sélectionner plusieurs colonnes** :\n",
    "  ```python\n",
    "  # Sélectionner les colonnes \"Nom\" et \"Age\"\n",
    "  df[[\"Nom\", \"Age\"]]\n",
    "  ```\n",
    "\n",
    "##### **2. Filtrer les données avec des conditions simples**\n",
    "\n",
    "Pour filtrer les données en fonction d'une condition :\n",
    "\n",
    "- **Filtrer avec une condition simple** :\n",
    "  ```python\n",
    "  # Filtrer les lignes où l'Age est supérieur à 30\n",
    "  df_filtré = df[df[\"Age\"] > 30]\n",
    "  ```\n",
    "\n",
    "- **Combiner des conditions avec `&` (et)** :\n",
    "  ```python\n",
    "  # Filtrer les lignes où l'Age est supérieur à 30 ET la Ville est \"Paris\"\n",
    "  df_filtré = df[(df[\"Age\"] > 30) & (df[\"Ville\"] == \"N'djamena\")]\n",
    "  ```\n",
    "\n",
    "- **Combiner des conditions avec `|` (ou)** :\n",
    "  ```python\n",
    "  # Filtrer les lignes où l'Age est supérieur à 30 OU la Ville est \"Paris\"\n",
    "  df_filtré = df[(df[\"Age\"] > 30) | (df[\"Ville\"] == \"N'djamena\")]\n",
    "  ```\n",
    "\n",
    "##### **3. Filtrer avec `isin()`**\n",
    "\n",
    "Pour filtrer selon plusieurs valeurs spécifiques dans une colonne :\n",
    "\n",
    "```python\n",
    "# Filtrer les lignes où la Ville est soit \"Paris\" soit \"Lyon\"\n",
    "df_filtré = df[df[\"Ville\"].isin([\"Doba\", \"Abéché\"])]\n",
    "```\n",
    "\n",
    "##### **4. Filtrer les valeurs manquantes**\n",
    "\n",
    "Pour filtrer les lignes contenant ou non des valeurs manquantes :\n",
    "\n",
    "- **Filtrer les lignes avec des valeurs manquantes** :\n",
    "  ```python\n",
    "  # Filtrer les lignes où il y a des valeurs manquantes dans la colonne \"Age\"\n",
    "  df_manquantes = df[df[\"Age\"].isna()]\n",
    "  ```\n",
    "\n",
    "- **Filtrer les lignes sans valeurs manquantes** :\n",
    "  ```python\n",
    "  # Filtrer les lignes où il n'y a PAS de valeurs manquantes dans la colonne \"Age\"\n",
    "  df_non_manquantes = df[df[\"Age\"].notna()]\n",
    "  ```\n",
    "\n",
    "##### **5. Filtrer avec des méthodes de texte**\n",
    "\n",
    "Pour filtrer des données textuelles, on peut utiliser des méthodes spécifiques :\n",
    "\n",
    "```python\n",
    "# Filtrer les lignes où la Ville commence par \"P\"\n",
    "df_villes_P = df[df[\"Ville\"].str.startswith(\"P\")]\n",
    "```\n",
    "\n",
    "#### **Exemples concrets :**\n",
    "\n",
    "1. **Filtrer pour une année spécifique**\n",
    "   ```python\n",
    "   # Filtrer les données pour l'année 2020\n",
    "   df_2020 = df[df[\"Année\"] == 2020]\n",
    "   ```\n",
    "\n",
    "2. **Filtrer une plage de valeurs**\n",
    "   ```python\n",
    "   # Filtrer les données pour les âges entre 20 et 40\n",
    "   df_age_20_40 = df[(df[\"Age\"] >= 20) & (df[\"Age\"] <= 40)]\n",
    "   ```\n",
    "\n",
    "3. **Filtrer plusieurs valeurs spécifiques dans une colonne**\n",
    "   ```python\n",
    "   # Filtrer les lignes où la Ville est \"Paris\" ou \"Lyon\"\n",
    "   df_villes = df[df[\"Ville\"].isin([\"Paris\", \"Lyon\"])]\n",
    "   ```\n",
    "\n",
    "#### **Résumé visuel :**\n",
    "Voici un petit tableau récapitulatif des commandes de filtrage courantes :\n",
    "\n",
    "| **Méthode**                          | **Description**                                        | **Exemple**                                      |\n",
    "|--------------------------------------|--------------------------------------------------------|--------------------------------------------------|\n",
    "| `df['colonne']`                      | Sélectionner une colonne                               | `df[\"Ville\"]`                                    |\n",
    "| `df[['col1', 'col2']]`               | Sélectionner plusieurs colonnes                        | `df[[\"Nom\", \"Age\"]]`                             |\n",
    "| `df[df['colonne'] > valeur]`         | Filtrer par condition simple                           | `df[df[\"Age\"] > 30]`                             |\n",
    "| `(condition1) & (condition2)`        | Combiner des conditions avec ET                        | `(df[\"Age\"] > 30) & (df[\"Ville\"] == \"Paris\")`    |\n",
    "| `(condition1) | (condition2)`        | Combiner des conditions avec OU                        | `(df[\"Age\"] > 30) | (df[\"Ville\"] == \"Paris\")`    |\n",
    "| `df['colonne'].isin([val1, val2])`   | Filtrer avec une liste de valeurs spécifiques          | `df[df[\"Ville\"].isin([\"Paris\", \"Lyon\"])]`        |\n",
    "| `df['colonne'].isna()`               | Filtrer les valeurs manquantes                         | `df[df[\"Age\"].isna()]`                           |\n",
    "| `df['colonne'].notna()`              | Filtrer les valeurs non manquantes                     | `df[df[\"Age\"].notna()]`                          |\n",
    "| `df['colonne'].str.startswith('x')`  | Filtrer le texte qui commence par une lettre spécifique| `df[df[\"Ville\"].str.startswith(\"P\")]`            |\n",
    "\n",
    "Ces exemples montrent comment manipuler et filtrer les données de manière efficace avec Pandas. Si tu veux plus de détails ou un exemple particulier, fais-le moi savoir !"
   ]
  },
  {
   "cell_type": "markdown",
   "id": "90efa557-02a0-4294-aa11-9000383bebeb",
   "metadata": {},
   "source": [
    "### <span style=\"color: red;\">A vous de jouer! 🎯</span>"
   ]
  },
  {
   "cell_type": "code",
   "execution_count": 91,
   "id": "90c87c77-9367-45e5-a006-c6aa4ecba54f",
   "metadata": {},
   "outputs": [],
   "source": [
    "# Sélectionner la colonne \"ref-area\"\n",
    "\n",
    "\n"
   ]
  },
  {
   "cell_type": "code",
   "execution_count": 94,
   "id": "60614903-b32c-4437-b994-641469a50674",
   "metadata": {},
   "outputs": [],
   "source": [
    "# Filtrer les données pour une province spécifique\n",
    "\n",
    "\n"
   ]
  },
  {
   "cell_type": "code",
   "execution_count": null,
   "id": "6a567ed7-0b3a-49aa-84e7-611728faf7e1",
   "metadata": {},
   "outputs": [],
   "source": [
    "# Filtrer les données pour l'année 2020 en utilisant la colonne \"Date\"\n"
   ]
  },
  {
   "cell_type": "markdown",
   "id": "c33ed112-60fd-4a60-b612-552a2850d905",
   "metadata": {},
   "source": [
    "### **Modification des Données de Colonnes avec Pandas**\n",
    "\n",
    "La **modification des données de colonnes** est une opération courante lorsque l'on manipule des DataFrames avec **Pandas**. Que ce soit pour **ajouter**, **modifier**, **supprimer**, ou **renommer** des colonnes, Pandas offre des outils simples et puissants pour ajuster les données selon les besoins de votre analyse.\n",
    "\n",
    "#### **1. Ajouter une nouvelle colonne**\n",
    "\n",
    "Pour ajouter une nouvelle colonne dans un DataFrame, il suffit de spécifier son nom et de lui attribuer des valeurs. Ces valeurs peuvent être :\n",
    "- Une valeur fixe.\n",
    "- Une liste de valeurs.\n",
    "- Le résultat d'une opération sur d'autres colonnes.\n",
    "\n",
    "##### **a. Ajouter une colonne avec une valeur fixe**\n",
    "```python\n",
    "import pandas as pd\n",
    "\n",
    "# Exemple de DataFrame\n",
    "data = {'Nom': ['Alice', 'Bob', 'Claire', 'David', 'Emma'],\n",
    "        'Age': [25, 30, 22, 28, 35]}\n",
    "df = pd.DataFrame(data)\n",
    "\n",
    "# Ajouter une colonne \"Ville\" avec une valeur fixe\n",
    "df['Ville'] = 'Paris'\n",
    "print(df)\n",
    "```\n",
    "\n",
    "**Explication** : La colonne `\"Ville\"` est ajoutée et toutes les lignes sont remplies avec `\"Paris\"`.\n",
    "\n",
    "##### **b. Ajouter une colonne calculée à partir d'une autre colonne**\n",
    "```python\n",
    "# Ajouter une colonne \"Age_dans_10_ans\" qui calcule l'âge dans 10 ans\n",
    "df['Age_dans_10_ans'] = df['Age'] + 10\n",
    "print(df)\n",
    "```\n",
    "\n",
    "**Explication** : La colonne `\"Age_dans_10_ans\"` est calculée en ajoutant 10 à chaque valeur de la colonne `\"Age\"`.\n",
    "\n",
    "---\n",
    "\n",
    "#### **2. Modifier une colonne existante**\n",
    "\n",
    "Pour modifier une colonne existante, il suffit de la réassigner avec de nouvelles valeurs.\n",
    "\n",
    "##### **a. Modifier une colonne en utilisant une valeur fixe**\n",
    "```python\n",
    "# Modifier la colonne \"Ville\" pour indiquer \"Inconnu\" pour toutes les lignes\n",
    "df['Ville'] = 'Inconnu'\n",
    "print(df)\n",
    "```\n",
    "\n",
    "##### **b. Modifier une colonne en utilisant des opérations**\n",
    "```python\n",
    "# Doubler l'âge de chaque personne\n",
    "df['Age'] = df['Age'] * 2\n",
    "print(df)\n",
    "```\n",
    "\n",
    "##### **c. Utiliser une fonction sur une colonne avec `apply()`**\n",
    "```python\n",
    "# Ajouter \" M.\" ou \" Mme.\" devant chaque nom selon l'âge\n",
    "def ajouter_titre(nom, age):\n",
    "    if age >= 30:\n",
    "        return \"M. \" + nom\n",
    "    else:\n",
    "        return \"Mme. \" + nom\n",
    "\n",
    "df['Nom'] = df.apply(lambda row: ajouter_titre(row['Nom'], row['Age']), axis=1)\n",
    "print(df)\n",
    "```\n",
    "\n",
    "**Explication** : `apply()` permet d'appliquer une fonction sur chaque ligne du DataFrame.\n",
    "\n",
    "---\n",
    "\n",
    "#### **3. Renommer des colonnes**\n",
    "\n",
    "Pour changer le nom des colonnes, on utilise la méthode **`rename()`**.\n",
    "\n",
    "##### **Exemple : Renommer une ou plusieurs colonnes**\n",
    "```python\n",
    "# Renommer la colonne \"Age\" en \"Âge\" et \"Nom\" en \"Prénom\"\n",
    "df = df.rename(columns={'Age': 'Âge', 'Nom': 'Prénom'})\n",
    "print(df)\n",
    "```\n",
    "\n",
    "**Explication** : `rename(columns={'ancien_nom': 'nouveau_nom'})` change le nom des colonnes spécifiées.\n",
    "\n",
    "---\n",
    "\n",
    "#### **4. Supprimer une colonne**\n",
    "\n",
    "Pour supprimer une colonne, on utilise la méthode **`drop()`**.\n",
    "\n",
    "##### **Exemple : Supprimer une colonne**\n",
    "```python\n",
    "# Supprimer la colonne \"Ville\"\n",
    "df = df.drop('Ville', axis=1)\n",
    "print(df)\n",
    "```\n",
    "\n",
    "**Explication** : `axis=1` indique que l'on souhaite supprimer une colonne (et non une ligne).\n",
    "\n",
    "##### **Supprimer plusieurs colonnes à la fois**\n",
    "```python\n",
    "# Supprimer les colonnes \"Âge\" et \"Age_dans_10_ans\"\n",
    "df = df.drop(['Âge', 'Age_dans_10_ans'], axis=1)\n",
    "print(df)\n",
    "```\n",
    "\n",
    "---\n",
    "\n",
    "### **5. Modifier le type de données d'une colonne**\n",
    "\n",
    "On peut changer le type de données d'une colonne pour l'adapter à nos besoins (par exemple, convertir une colonne de texte en nombre).\n",
    "\n",
    "##### **Exemple : Convertir une colonne en type numérique**\n",
    "```python\n",
    "# Exemple de conversion d'une colonne en entier\n",
    "df['Âge'] = df['Âge'].astype(int)\n",
    "print(df.dtypes)\n",
    "```\n",
    "\n",
    "**Explication** : `astype(type)` permet de convertir le type de données d'une colonne.\n",
    "\n",
    "---\n",
    "\n",
    "### **Exemples pratiques pour la modification des colonnes**\n",
    "\n",
    "#### **Exemple 1 : Ajouter une colonne basée sur une condition**\n",
    "```python\n",
    "# Ajouter une colonne \"Catégorie d'âge\" en fonction de l'âge\n",
    "df['Catégorie d\\'âge'] = df['Âge'].apply(lambda x: 'Jeune' if x < 30 else 'Adulte')\n",
    "print(df)\n",
    "```\n",
    "\n",
    "**Explication** : On utilise `apply()` pour catégoriser les valeurs de la colonne `\"Âge\"`.\n",
    "\n",
    "#### **Exemple 2 : Remplacer des valeurs spécifiques dans une colonne**\n",
    "```python\n",
    "# Remplacer toutes les valeurs \"Batha\" par \"Abéché\" dans la colonne \"Ville\"\n",
    "df['Ville'] = df['Ville'].replace('Paris', 'Marseille')\n",
    "print(df)\n",
    "```\n",
    "\n",
    "**Explication** : `replace('ancienne_valeur', 'nouvelle_valeur')` permet de remplacer des valeurs spécifiques dans une colonne.\n",
    "\n",
    "---\n",
    "\n",
    "### **Résumé :**\n",
    "Voici un petit tableau récapitulatif des opérations sur les colonnes avec Pandas :\n",
    "\n",
    "| **Opération**                             | **Description**                                                    | **Exemple**                                     |\n",
    "|-------------------------------------------|--------------------------------------------------------------------|-------------------------------------------------|\n",
    "| `df['colonne'] = valeur`                  | Ajouter/modifier une colonne avec une valeur fixe                  | `df['Ville'] = 'Paris'`                         |\n",
    "| `df['col2'] = df['col1'] + 10`            | Ajouter une colonne calculée à partir d'une autre                  | `df['Age_dans_10_ans'] = df['Age'] + 10`       |\n",
    "| `df.rename(columns={'ancien': 'nouveau'})`| Renommer une colonne                                               | `df.rename(columns={'Age': 'Âge'})`             |\n",
    "| `df.drop('colonne', axis=1)`              | Supprimer une colonne                                              | `df.drop('Ville', axis=1)`                      |\n",
    "| `df['colonne'] = df['colonne'].astype(type)`| Modifier le type de données d'une colonne                          | `df['Âge'] = df['Âge'].astype(int)`             |\n",
    "| `df['colonne'].replace('ancien', 'nouveau')` | Remplacer des valeurs spécifiques dans une colonne                | `df['Ville'].replace('Moundou', 'Sarh')`     |\n",
    "\n"
   ]
  },
  {
   "cell_type": "markdown",
   "id": "610e8600-7fda-464f-af1b-257fa1df01fc",
   "metadata": {},
   "source": [
    "### <span style=\"color: red;\">A vous de jouer! 🎯</span>"
   ]
  },
  {
   "cell_type": "code",
   "execution_count": 97,
   "id": "2648d0c0-c64d-4c66-b528-1d87e565b7d2",
   "metadata": {},
   "outputs": [],
   "source": [
    "# Renommer la colonne \"ref-area\" en \"Province\" et \"Date\",  en \"annee\" \n",
    "\n"
   ]
  },
  {
   "cell_type": "code",
   "execution_count": null,
   "id": "2129bdb0-5228-47b7-9433-dcac80480b7a",
   "metadata": {},
   "outputs": [],
   "source": []
  },
  {
   "cell_type": "markdown",
   "id": "3150aed1-b457-4e60-8648-c6be4eed6c7a",
   "metadata": {},
   "source": [
    "## 4. **Visualisation de Données (15 minutes)**\n",
    "\n",
    "La **visualisation de données** est un aspect clé de l'analyse de données, car elle permet de **comprendre rapidement des tendances**, des **relations** ou des **anomalies** à partir de graphiques et de diagrammes. En Python, la bibliothèque la plus couramment utilisée pour la visualisation est **Matplotlib**, souvent accompagnée de **Pandas** pour simplifier le processus.\n",
    "\n",
    "### **1. Introduction à Matplotlib**\n",
    "\n",
    "**Matplotlib** est une bibliothèque de visualisation en Python qui permet de créer une grande variété de graphiques, des plus simples (comme les courbes et les histogrammes) aux plus complexes (comme les diagrammes en 3D).\n",
    "\n",
    "#### **a. Importer Matplotlib**\n",
    "Pour commencer, il faut importer la bibliothèque :\n",
    "\n",
    "```python\n",
    "import matplotlib.pyplot as plt\n",
    "```\n",
    "\n",
    "#### **b. Configuration de base**\n",
    "Pour afficher les graphiques directement dans un notebook Jupyter :\n",
    "```python\n",
    "%matplotlib inline\n",
    "```\n",
    "\n",
    "### **2. Types de graphiques courants**\n",
    "\n",
    "Voici les types de visualisations les plus utilisés pour explorer des données :\n",
    "\n",
    "#### **a. Histogramme**\n",
    "Un **histogramme** permet de visualiser la **distribution** d'une variable numérique.\n",
    "\n",
    "**Exemple :**\n",
    "```python\n",
    "import pandas as pd\n",
    "import matplotlib.pyplot as plt\n",
    "\n",
    "# Exemple de DataFrame\n",
    "data = {'Âge': [22, 25, 30, 32, 35, 40, 45, 50, 55, 60]}\n",
    "df = pd.DataFrame(data)\n",
    "\n",
    "# Créer un histogramme de la colonne \"Âge\"\n",
    "df['Âge'].hist(bins=5)\n",
    "plt.title(\"Distribution des Âges\")\n",
    "plt.xlabel(\"Âge\")\n",
    "plt.ylabel(\"Nombre d'individus\")\n",
    "plt.show()\n",
    "```\n",
    "\n",
    "**Explication** : L'histogramme montre combien de valeurs se trouvent dans chaque intervalle d'âge.\n",
    "\n",
    "#### **b. Diagramme en barres (Bar Plot)**\n",
    "Un **diagramme en barres** est utilisé pour comparer des valeurs entre différentes catégories.\n",
    "\n",
    "**Exemple :**\n",
    "```python\n",
    "# Exemple de DataFrame\n",
    "data = {'Ville': ['Doba', 'Moundou', 'Sarh', 'Abéché', 'Ndjamena'],\n",
    "        'Population': [1000000, 500000, 700000, 300000, 4000000]}\n",
    "df = pd.DataFrame(data)\n",
    "\n",
    "# Créer un diagramme en barres pour comparer la population des villes\n",
    "df.plot(kind='bar', x='Ville', y='Population')\n",
    "plt.title(\"Population par Ville\")\n",
    "plt.xlabel(\"Ville\")\n",
    "plt.ylabel(\"Population\")\n",
    "plt.show()\n",
    "```\n",
    "\n",
    "**Explication** : Chaque barre représente la population d'une ville.\n",
    "\n",
    "#### **c. Diagramme circulaire (Pie Chart)**\n",
    "Un **diagramme circulaire** permet de visualiser la **répartition** des parts d'un tout.\n",
    "\n",
    "**Exemple :**\n",
    "```python\n",
    "# Créer un diagramme circulaire pour la population\n",
    "df.plot(kind='pie', y='Population', labels=df['Ville'], autopct='%1.1f%%')\n",
    "plt.title(\"Répartition de la Population par Ville\")\n",
    "plt.ylabel(\"\")\n",
    "plt.show()\n",
    "```\n",
    "\n",
    "**Explication** : Chaque segment du diagramme circulaire représente la proportion d'une ville par rapport au total.\n",
    "\n",
    "#### **d. Courbe (Line Plot)**\n",
    "Une **courbe** est utilisée pour visualiser des données continues et observer des tendances au fil du temps.\n",
    "\n",
    "**Exemple :**\n",
    "```python\n",
    "# Exemple de DataFrame avec des données temporelles\n",
    "data = {'Année': [2015, 2016, 2017, 2018, 2019, 2020],\n",
    "        'Ventes': [150, 200, 250, 300, 350, 400]}\n",
    "df = pd.DataFrame(data)\n",
    "\n",
    "# Créer une courbe pour visualiser les ventes annuelles\n",
    "plt.plot(df['Année'], df['Ventes'], marker='o')\n",
    "plt.title(\"Évolution des Ventes Annuelles\")\n",
    "plt.xlabel(\"Année\")\n",
    "plt.ylabel(\"Ventes\")\n",
    "plt.grid(True)\n",
    "plt.show()\n",
    "```\n",
    "\n",
    "**Explication** : La courbe montre l'évolution des ventes au fil des années.\n",
    "\n",
    "#### **e. Nuage de points (Scatter Plot)**\n",
    "Un **nuage de points** permet d'observer la **relation entre deux variables numériques**.\n",
    "\n",
    "**Exemple :**\n",
    "```python\n",
    "# Exemple de DataFrame\n",
    "data = {'Taille': [150, 160, 165, 170, 175, 180, 185],\n",
    "        'Poids': [50, 55, 60, 65, 70, 75, 80]}\n",
    "df = pd.DataFrame(data)\n",
    "\n",
    "# Créer un nuage de points pour visualiser la relation entre taille et poids\n",
    "plt.scatter(df['Taille'], df['Poids'])\n",
    "plt.title(\"Relation entre la Taille et le Poids\")\n",
    "plt.xlabel(\"Taille (cm)\")\n",
    "plt.ylabel(\"Poids (kg)\")\n",
    "plt.show()\n",
    "```\n",
    "\n",
    "**Explication** : Le graphique montre si une relation existe entre la taille et le poids des individus.\n",
    "\n",
    "---\n",
    "\n",
    "### **3. Personnalisation des graphiques**\n",
    "\n",
    "Matplotlib permet de personnaliser les graphiques pour les rendre plus lisibles :\n",
    "\n",
    "- **Ajouter un titre** : `plt.title(\"Titre du graphique\")`\n",
    "- **Nommer les axes** : `plt.xlabel(\"Nom de l'axe X\")` et `plt.ylabel(\"Nom de l'axe Y\")`\n",
    "- **Ajouter une grille** : `plt.grid(True)`\n",
    "- **Changer les couleurs** : `color='green'` ou `c='red'`\n",
    "- **Ajouter des légendes** : `plt.legend(['Nom de la courbe'])`\n",
    "\n",
    "**Exemple : Personnalisation d'un graphique**\n",
    "```python\n",
    "# Exemple avec une courbe personnalisée\n",
    "plt.plot(df['Année'], df['Ventes'], marker='o', linestyle='--', color='purple')\n",
    "plt.title(\"Évolution des Ventes (Personnalisée)\")\n",
    "plt.xlabel(\"Année\")\n",
    "plt.ylabel(\"Ventes\")\n",
    "plt.grid(True)\n",
    "plt.legend(['Ventes Annuelles'])\n",
    "plt.show()\n",
    "```\n",
    "\n",
    "---\n",
    "\n",
    "### **Exercice interactif : Créer vos propres visualisations**\n",
    "\n",
    "#### **Exercice 1 : Histogramme des âges**\n",
    "Demande aux participants de créer un histogramme pour visualiser la distribution des âges dans un DataFrame.\n",
    "\n",
    "**Exercice :**\n",
    "```python\n",
    "# Créer un histogramme pour visualiser la distribution des âges\n",
    "df['Âge'].hist(bins=6)\n",
    "plt.title(\"Distribution des Âges\")\n",
    "plt.xlabel(\"Âge\")\n",
    "plt.ylabel(\"Nombre d'individus\")\n",
    "plt.show()\n",
    "```\n",
    "\n",
    "#### **Exercice 2 : Diagramme en barres de la population des villes**\n",
    "Demande aux participants de créer un diagramme en barres pour comparer la population de différentes villes.\n",
    "\n",
    "**Exercice :**\n",
    "```python\n",
    "# Créer un diagramme en barres pour comparer la population des villes\n",
    "df.plot(kind='bar', x='Ville', y='Population', color='orange')\n",
    "plt.title(\"Population par Ville\")\n",
    "plt.xlabel(\"Ville\")\n",
    "plt.ylabel(\"Population\")\n",
    "plt.show()\n",
    "```\n",
    "\n",
    "---\n",
    "\n",
    "### **Résumé des visualisations :**\n",
    "\n",
    "| **Type de graphique**      | **Utilisation**                                   | **Commande**                                       |\n",
    "|----------------------------|--------------------------------------------------|----------------------------------------------------|\n",
    "| **Histogramme**             | Visualiser la distribution d'une variable        | `df['colonne'].hist(bins=nombre)`                  |\n",
    "| **Diagramme en barres**     | Comparer des valeurs entre catégories            | `df.plot(kind='bar', x='col1', y='col2')`          |\n",
    "| **Diagramme circulaire**    | Voir la répartition d'un ensemble                | `df.plot(kind='pie', y='colonne', ...)`            |\n",
    "| **Courbe**                  | Observer les tendances au fil du temps           | `plt.plot(x, y)`                                   |\n",
    "| **Nuage de points**         | Visualiser la relation entre deux variables      | `plt.scatter(x, y)`                                |\n",
    "\n"
   ]
  },
  {
   "cell_type": "markdown",
   "id": "2d9707ff-f95a-4d13-b3b6-8ed7f93d9b68",
   "metadata": {
    "jp-MarkdownHeadingCollapsed": true
   },
   "source": [
    "### <span style=\"color: red;\">A vous de jouer! 🎯</span>"
   ]
  },
  {
   "cell_type": "code",
   "execution_count": 103,
   "id": "cab6f830-997c-479d-9e78-16ace5e30c69",
   "metadata": {},
   "outputs": [],
   "source": [
    "# Importer matplotlib\n",
    "\n",
    "\n",
    "# Créer un histogramme pour la colonne \"Value\"\n"
   ]
  },
  {
   "cell_type": "code",
   "execution_count": 104,
   "id": "56a3b0df-719f-44ed-a69b-73c1d65d0619",
   "metadata": {},
   "outputs": [],
   "source": [
    "# Créer un diagramme en barres pour la colonne \"province\"\n",
    "\n",
    "\n"
   ]
  },
  {
   "cell_type": "code",
   "execution_count": null,
   "id": "4cfe9872-de1a-4548-85d8-2ef6659ace36",
   "metadata": {},
   "outputs": [],
   "source": [
    "# Créer un diagramme circulaire pour la colonne \"province\"\n",
    "\n",
    "\n"
   ]
  },
  {
   "cell_type": "markdown",
   "id": "ee1c27bb-4427-4418-8a80-044e2437728b",
   "metadata": {},
   "source": [
    "## 5.  Exporter  les  données dans un fichier csv\n",
    "\n",
    "Indice: Vous pouvez exporter  les données  la méthode to_csv()."
   ]
  },
  {
   "cell_type": "code",
   "execution_count": 101,
   "id": "de2ebc85-8cc1-4037-b5c5-9393732ca3ad",
   "metadata": {},
   "outputs": [],
   "source": [
    "# Votre code ici\n",
    "\n"
   ]
  },
  {
   "cell_type": "markdown",
   "id": "92c35401-734c-436d-86c6-2e89c495aebf",
   "metadata": {},
   "source": [
    "## <span style=\"color: blue;\">POUR ALLER PLUS LOIN !</span>"
   ]
  },
  {
   "cell_type": "markdown",
   "id": "eac88f83-e157-4bdf-8b60-903a5ec6c494",
   "metadata": {},
   "source": [
    "1.https://openclassrooms.com/fr/courses/6204541-initiez-vous-a-python-pour-lanalyse-de-donnees <br>\n",
    "2. https://courspython.com  <br>\n",
    "3. https://www.sfu.ca/~mjbrydon/tutorials/BAinPy/02_data.html <br>\n",
    "4. \n",
    "https://www.youtube.com/watch?v=3qdzsvlOl \r\n",
    " <b\n",
    "5.https://www.youtube.com/watch?v=jqZ3ATcm3yE&list=PLyh35eYRez8eiEt_0oVVqLDfnpxON2pZ-&index=2&ab_channel=LeCoinStat <br>\n",
    "6.https://medium.com/@gubrani.sanya2/data-manipulation-with-pandas-399213045b91 <br>\r",
    "7.https://docs.python.org/3/tutorial/index.html\n",
    "r>"
   ]
  },
  {
   "cell_type": "code",
   "execution_count": null,
   "id": "67c385cb-36d9-4c05-8478-921b82ae4667",
   "metadata": {},
   "outputs": [],
   "source": []
  }
 ],
 "metadata": {
  "kernelspec": {
   "display_name": "Python 3 (ipykernel)",
   "language": "python",
   "name": "python3"
  },
  "language_info": {
   "codemirror_mode": {
    "name": "ipython",
    "version": 3
   },
   "file_extension": ".py",
   "mimetype": "text/x-python",
   "name": "python",
   "nbconvert_exporter": "python",
   "pygments_lexer": "ipython3",
   "version": "3.12.4"
  }
 },
 "nbformat": 4,
 "nbformat_minor": 5
}
